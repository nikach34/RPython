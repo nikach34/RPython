{
 "cells": [
  {
   "cell_type": "code",
   "execution_count": null,
   "metadata": {},
   "outputs": [],
   "source": [
    "import sys\n",
    "import PyQt5.QtWidgets\n",
    "from PyQt5.QtWidgets import (QWidget, QProgressBar,\n",
    "    QPushButton, QApplication)\n",
    "from PyQt5.QtCore import QBasicTimer\n",
    "\n",
    "\n",
    "class Bar(PyQt5.QtWidgets.QWidget):\n",
    "\n",
    "    def __init__(self):\n",
    "        super().__init__()\n",
    "\n",
    "        self.initUI()\n",
    "\n",
    "\n",
    "    def initUI(self):\n",
    "\n",
    "        self.pbar = QProgressBar(self)\n",
    "        self.pbar.setGeometry(50, 40, 200, 25)\n",
    "\n",
    "        self.btn = QPushButton('Start', self)\n",
    "        self.btn.move(100, 80)\n",
    "        self.btn.clicked.connect(self.doAction)\n",
    "\n",
    "        self.timer = QBasicTimer()\n",
    "        self.step = 0\n",
    "\n",
    "        self.setGeometry(300, 300, 290, 180)\n",
    "        self.setWindowTitle('Bar of something')\n",
    "        self.show()\n",
    "\n",
    "\n",
    "    def timerEvent(self, e):\n",
    "\n",
    "        if self.step >= 100:\n",
    "            self.timer.stop()\n",
    "            self.btn.setText('End')\n",
    "            return\n",
    "\n",
    "        self.step = self.step + 1\n",
    "        self.pbar.setValue(self.step/1)\n",
    "\n",
    "\n",
    "    def doAction(self):\n",
    "\n",
    "        if self.timer.isActive():\n",
    "            self.timer.stop()\n",
    "            self.btn.setText('Start')\n",
    "        else:\n",
    "            self.timer.start(100, self)\n",
    "            self.btn.setText('Stop')\n",
    "\n",
    "\n",
    "if __name__ == '__main__':\n",
    "\n",
    "    app = QApplication(sys.argv)\n",
    "    ex = Bar()\n",
    "    sys.exit(app.exec_())"
   ]
  },
  {
   "cell_type": "code",
   "execution_count": null,
   "metadata": {},
   "outputs": [],
   "source": []
  }
 ],
 "metadata": {
  "kernelspec": {
   "display_name": "Python 3",
   "language": "python",
   "name": "python3"
  },
  "language_info": {
   "codemirror_mode": {
    "name": "ipython",
    "version": 3
   },
   "file_extension": ".py",
   "mimetype": "text/x-python",
   "name": "python",
   "nbconvert_exporter": "python",
   "pygments_lexer": "ipython3",
   "version": "3.7.0"
  }
 },
 "nbformat": 4,
 "nbformat_minor": 2
}
